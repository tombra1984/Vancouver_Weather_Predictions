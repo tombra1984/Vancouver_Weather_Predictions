{
 "cells": [
  {
   "cell_type": "code",
   "execution_count": 1,
   "metadata": {},
   "outputs": [],
   "source": [
    "# Import necessary libraries\n",
    "import pandas as pd\n",
    "import numpy as np\n",
    "import matplotlib.pyplot as plt\n",
    "from sklearn.model_selection import train_test_split\n",
    "from sklearn.ensemble import RandomForestRegressor\n",
    "from sklearn.metrics import mean_squared_error\n",
    "from statsmodels.tsa.seasonal import seasonal_decompose\n",
    "from statsmodels.graphics.tsaplots import plot_acf, plot_pacf\n",
    "from statsmodels.tsa.statespace.sarimax import SARIMAX\n",
    "from sklearn.preprocessing import MinMaxScaler"
   ]
  },
  {
   "cell_type": "code",
   "execution_count": 4,
   "metadata": {},
   "outputs": [],
   "source": [
    "# To load df\n",
    "combined_selected_filled = pd.read_csv(r'C:\\Users\\Tombra\\Vancouver_Weather_Predictions\\combined_selected_filled.csv')"
   ]
  },
  {
   "cell_type": "code",
   "execution_count": null,
   "metadata": {},
   "outputs": [],
   "source": [
    "\n",
    "\n",
    "# Load your dataframe\n",
    "# Assuming the dataframe is named combined_selected_filled\n",
    "\n",
    "# Combine date columns into a single datetime column\n",
    "combined_selected_filled['Date'] = pd.to_datetime(combined_selected_filled[['Year', 'Month', 'Day']])\n",
    "\n",
    "# Set the date as the index\n",
    "combined_selected_filled.set_index('Date', inplace=True)\n",
    "\n",
    "# Plot the time series data\n",
    "combined_selected_filled['Mean Temp (°C)'].plot(figsize=(15, 6))\n",
    "plt.title('Mean Temperature Over Time')\n",
    "plt.show()\n",
    "\n",
    "# Decompose the time series to understand trends, seasonality, and residuals\n",
    "result = seasonal_decompose(combined_selected_filled['Mean Temp (°C)'], model='multiplicative', period=12)\n",
    "result.plot()\n",
    "plt.show()\n",
    "\n",
    "# Split the data into training and testing sets\n",
    "train_size = int(len(combined_selected_filled) * 0.8)\n",
    "train, test = combined_selected_filled[:train_size], combined_selected_filled[train_size:]\n",
    "\n",
    "# Plot autocorrelation and partial autocorrelation to determine the order of the SARIMA model\n",
    "plot_acf(train['Mean Temp (°C)'])\n",
    "plot_pacf(train['Mean Temp (°C)'])\n",
    "plt.show()\n",
    "\n",
    "# Use MinMaxScaler to scale the data\n",
    "scaler = MinMaxScaler()\n",
    "train_scaled = scaler.fit_transform(train[['Mean Temp (°C)']])\n",
    "test_scaled = scaler.transform(test[['Mean Temp (°C)']])\n",
    "\n",
    "# Fit a SARIMA model\n",
    "order = (1, 1, 1, 12)  # Example order, tune this based on ACF and PACF plots\n",
    "model = SARIMAX(train_scaled, order=order, seasonal_order=(1, 1, 1, 12))\n",
    "fit_model = model.fit()\n",
    "\n",
    "# Predict on the test set\n",
    "predictions = fit_model.get_forecast(steps=len(test_scaled))\n",
    "predicted_mean = predictions.predicted_mean\n",
    "\n",
    "# Inverse transform the predictions to the original scale\n",
    "predicted_mean_original_scale = scaler.inverse_transform(np.array(predicted_mean).reshape(-1, 1))\n",
    "\n",
    "# Calculate RMSE\n",
    "rmse = np.sqrt(mean_squared_error(test['Mean Temp (°C)'], predicted_mean_original_scale))\n",
    "print(f'Root Mean Squared Error (RMSE): {rmse}')\n",
    "\n",
    "# Plot the results\n",
    "plt.figure(figsize=(15, 6))\n",
    "plt.plot(train['Mean Temp (°C)'], label='Training')\n",
    "plt.plot(test['Mean Temp (°C)'], label='Actual')\n",
    "plt.plot(test.index, predicted_mean_original_scale, label='Predicted', color='red')\n",
    "plt.title('Mean Temperature Prediction with SARIMA')\n",
    "plt.legend()\n",
    "plt.show()\n"
   ]
  }
 ],
 "metadata": {
  "kernelspec": {
   "display_name": "base",
   "language": "python",
   "name": "python3"
  },
  "language_info": {
   "codemirror_mode": {
    "name": "ipython",
    "version": 3
   },
   "file_extension": ".py",
   "mimetype": "text/x-python",
   "name": "python",
   "nbconvert_exporter": "python",
   "pygments_lexer": "ipython3",
   "version": "3.10.9"
  },
  "orig_nbformat": 4
 },
 "nbformat": 4,
 "nbformat_minor": 2
}
